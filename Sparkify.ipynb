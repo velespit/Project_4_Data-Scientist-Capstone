{
 "cells": [
  {
   "cell_type": "markdown",
   "metadata": {},
   "source": [
    "# Sparkify Project Workspace\n",
    "This workspace contains a tiny subset (128MB) of the full dataset available (12GB). Feel free to use this workspace to build your project, or to explore a smaller subset with Spark before deploying your cluster on the cloud. Instructions for setting up your Spark cluster is included in the last lesson of the Extracurricular Spark Course content.\n",
    "\n",
    "You can follow the steps below to guide your data analysis and model building portion of this project."
   ]
  },
  {
   "cell_type": "code",
   "execution_count": 2,
   "metadata": {},
   "outputs": [],
   "source": [
    "# import libraries\n",
    "\n",
    "from pyspark.sql import SparkSession\n",
    "from pyspark.sql.functions import avg, col, concat, desc, explode, lit, min, max, sum, split, udf, isnan, when, count, countDistinct\n",
    "from pyspark.sql.types import IntegerType\n",
    "from pyspark.sql.window import Window\n",
    "import datetime\n",
    "from pyspark.sql.functions import date_format\n",
    "\n",
    "from pyspark.ml import Pipeline\n",
    "from pyspark.ml.classification import RandomForestClassifier, LogisticRegression, GBTClassifier, LinearSVC\n",
    "from pyspark.ml.evaluation import MulticlassClassificationEvaluator\n",
    "from pyspark.ml.feature import VectorAssembler, StandardScaler\n",
    "from pyspark.ml.classification import LogisticRegression\n",
    "from pyspark.ml.tuning import CrossValidator, ParamGridBuilder\n",
    "from pyspark.mllib.evaluation import MulticlassMetrics\n",
    "\n",
    "import matplotlib.pyplot as plt\n",
    "%matplotlib inline\n",
    "import seaborn as sns"
   ]
  },
  {
   "cell_type": "code",
   "execution_count": 3,
   "metadata": {},
   "outputs": [],
   "source": [
    "# create a Spark session\n",
    "spark = SparkSession.builder \\\n",
    "    .master(\"local\") \\\n",
    "    .appName(\"capstone_project\") \\\n",
    "    .getOrCreate()"
   ]
  },
  {
   "cell_type": "markdown",
   "metadata": {},
   "source": [
    "# Load and Clean Dataset\n",
    "In this workspace, the mini-dataset file is `mini_sparkify_event_data.json`. Load and clean the dataset, checking for invalid or missing data - for example, records without userids or sessionids. "
   ]
  },
  {
   "cell_type": "code",
   "execution_count": 4,
   "metadata": {},
   "outputs": [],
   "source": [
    "data = \"mini_sparkify_event_data.json\"\n",
    "df = spark.read.json(data)\n",
    "#df.persist()"
   ]
  },
  {
   "cell_type": "code",
   "execution_count": 5,
   "metadata": {},
   "outputs": [
    {
     "name": "stdout",
     "output_type": "stream",
     "text": [
      "root\n",
      " |-- artist: string (nullable = true)\n",
      " |-- auth: string (nullable = true)\n",
      " |-- firstName: string (nullable = true)\n",
      " |-- gender: string (nullable = true)\n",
      " |-- itemInSession: long (nullable = true)\n",
      " |-- lastName: string (nullable = true)\n",
      " |-- length: double (nullable = true)\n",
      " |-- level: string (nullable = true)\n",
      " |-- location: string (nullable = true)\n",
      " |-- method: string (nullable = true)\n",
      " |-- page: string (nullable = true)\n",
      " |-- registration: long (nullable = true)\n",
      " |-- sessionId: long (nullable = true)\n",
      " |-- song: string (nullable = true)\n",
      " |-- status: long (nullable = true)\n",
      " |-- ts: long (nullable = true)\n",
      " |-- userAgent: string (nullable = true)\n",
      " |-- userId: string (nullable = true)\n",
      "\n"
     ]
    }
   ],
   "source": [
    "# check the structure and column names of the dataset\n",
    "df.printSchema()"
   ]
  },
  {
   "cell_type": "code",
   "execution_count": 6,
   "metadata": {
    "scrolled": true
   },
   "outputs": [
    {
     "data": {
      "text/plain": [
       "[Row(artist='Martha Tilston', auth='Logged In', firstName='Colin', gender='M', itemInSession=50, lastName='Freeman', length=277.89016, level='paid', location='Bakersfield, CA', method='PUT', page='NextSong', registration=1538173362000, sessionId=29, song='Rockpools', status=200, ts=1538352117000, userAgent='Mozilla/5.0 (Windows NT 6.1; WOW64; rv:31.0) Gecko/20100101 Firefox/31.0', userId='30')]"
      ]
     },
     "execution_count": 6,
     "metadata": {},
     "output_type": "execute_result"
    }
   ],
   "source": [
    "# check the first row to see what the data looks like\n",
    "df.take(1)"
   ]
  },
  {
   "cell_type": "code",
   "execution_count": 7,
   "metadata": {},
   "outputs": [
    {
     "name": "stdout",
     "output_type": "stream",
     "text": [
      "286500\n",
      "18\n"
     ]
    }
   ],
   "source": [
    "# count the number of rows\n",
    "print(df.count())\n",
    "\n",
    "# count the number of columns\n",
    "print(len(df.columns))"
   ]
  },
  {
   "cell_type": "code",
   "execution_count": 8,
   "metadata": {},
   "outputs": [
    {
     "name": "stdout",
     "output_type": "stream",
     "text": [
      "+------+----+---------+------+-------------+--------+------+-----+--------+------+----+------------+---------+----+------+---+---------+------+\n",
      "|artist|auth|firstName|gender|itemInSession|lastName|length|level|location|method|page|registration|sessionId|song|status| ts|userAgent|userId|\n",
      "+------+----+---------+------+-------------+--------+------+-----+--------+------+----+------------+---------+----+------+---+---------+------+\n",
      "|     0|   0|        0|     0|            0|       0|     0|    0|       0|     0|   0|           0|        0|   0|     0|  0|        0|     0|\n",
      "+------+----+---------+------+-------------+--------+------+-----+--------+------+----+------------+---------+----+------+---+---------+------+\n",
      "\n"
     ]
    }
   ],
   "source": [
    "# count the number of nan values in each column\n",
    "df.select([count(when(isnan(c), c)).alias(c) for c in df.columns]).show()"
   ]
  },
  {
   "cell_type": "code",
   "execution_count": 9,
   "metadata": {},
   "outputs": [
    {
     "name": "stdout",
     "output_type": "stream",
     "text": [
      "+------+----+---------+------+-------------+--------+------+-----+--------+------+----+------------+---------+-----+------+---+---------+------+\n",
      "|artist|auth|firstName|gender|itemInSession|lastName|length|level|location|method|page|registration|sessionId| song|status| ts|userAgent|userId|\n",
      "+------+----+---------+------+-------------+--------+------+-----+--------+------+----+------------+---------+-----+------+---+---------+------+\n",
      "| 58392|   0|     8346|  8346|            0|    8346| 58392|    0|    8346|     0|   0|        8346|        0|58392|     0|  0|     8346|     0|\n",
      "+------+----+---------+------+-------------+--------+------+-----+--------+------+----+------------+---------+-----+------+---+---------+------+\n",
      "\n"
     ]
    }
   ],
   "source": [
    "# count the number of null values in each column\n",
    "df.select([count(when(isnan(c) | col(c).isNull(), c)).alias(c) for c in df.columns]).show()"
   ]
  },
  {
   "cell_type": "code",
   "execution_count": 10,
   "metadata": {},
   "outputs": [
    {
     "name": "stdout",
     "output_type": "stream",
     "text": [
      "8346\n",
      "0\n"
     ]
    }
   ],
   "source": [
    "# Check the number of empty values in two columns: \"userId\" and \"sessionId\"\n",
    "print(df.filter(df.userId == \"\").count())\n",
    "print(df.filter(df.sessionId == \"\").count())"
   ]
  },
  {
   "cell_type": "code",
   "execution_count": 11,
   "metadata": {},
   "outputs": [
    {
     "name": "stdout",
     "output_type": "stream",
     "text": [
      "278154\n"
     ]
    }
   ],
   "source": [
    "# As the above cell results suggest, we have empty userId values in some rows, but we do not have any empty sessionId values\n",
    "# So I drop the rows with empty values in \"userId\" and \"sessionId\" columns\n",
    "df = df.select(\"*\").where((df.userId != \"\"))\n",
    "print(df.count())"
   ]
  },
  {
   "cell_type": "code",
   "execution_count": 12,
   "metadata": {
    "scrolled": true
   },
   "outputs": [
    {
     "name": "stdout",
     "output_type": "stream",
     "text": [
      "0\n",
      "+------+---------+---------+------+-------------+--------+------+-----+--------------------+------+---------------+-------------+---------+----+------+-------------+--------------------+------+\n",
      "|artist|     auth|firstName|gender|itemInSession|lastName|length|level|            location|method|           page| registration|sessionId|song|status|           ts|           userAgent|userId|\n",
      "+------+---------+---------+------+-------------+--------+------+-----+--------------------+------+---------------+-------------+---------+----+------+-------------+--------------------+------+\n",
      "|  null|Logged In|    Colin|     M|           54| Freeman|  null| paid|     Bakersfield, CA|   PUT|Add to Playlist|1538173362000|       29|null|   200|1538352905000|Mozilla/5.0 (Wind...|    30|\n",
      "|  null|Logged In|    Micah|     M|           84|    Long|  null| free|Boston-Cambridge-...|   GET|    Roll Advert|1538331630000|        8|null|   200|1538353150000|\"Mozilla/5.0 (Win...|     9|\n",
      "+------+---------+---------+------+-------------+--------+------+-----+--------------------+------+---------------+-------------+---------+----+------+-------------+--------------------+------+\n",
      "only showing top 2 rows\n",
      "\n",
      "None\n",
      "+--------------------+\n",
      "|                page|\n",
      "+--------------------+\n",
      "|               About|\n",
      "|          Add Friend|\n",
      "|     Add to Playlist|\n",
      "|              Cancel|\n",
      "|Cancellation Conf...|\n",
      "|           Downgrade|\n",
      "|               Error|\n",
      "|                Help|\n",
      "|                Home|\n",
      "|              Logout|\n",
      "|         Roll Advert|\n",
      "|       Save Settings|\n",
      "|            Settings|\n",
      "|    Submit Downgrade|\n",
      "|      Submit Upgrade|\n",
      "|         Thumbs Down|\n",
      "|           Thumbs Up|\n",
      "|             Upgrade|\n",
      "+--------------------+\n",
      "\n"
     ]
    }
   ],
   "source": [
    "# check if the rows where artist value is null, has \"NextSong\" value in page column:\n",
    "#df.where(col(\"artist\").isNull()).count()\n",
    "print(df.where((df.artist.isNull()) & (df.page == \"NextPage\")).count())\n",
    "print(df.where(df.artist.isNull()).show(n=2))\n",
    "df.where(df.artist.isNull()).select(\"page\").dropDuplicates().sort(\"page\").show()"
   ]
  },
  {
   "cell_type": "markdown",
   "metadata": {},
   "source": [
    "I can see from the example above that rows with empty artist values are exempt from having artist values since they are unrelated to song plays. I do not need to drop these rows because of this."
   ]
  },
  {
   "cell_type": "code",
   "execution_count": 13,
   "metadata": {},
   "outputs": [
    {
     "name": "stdout",
     "output_type": "stream",
     "text": [
      "+--------------------+\n",
      "|                page|\n",
      "+--------------------+\n",
      "|               About|\n",
      "|          Add Friend|\n",
      "|     Add to Playlist|\n",
      "|              Cancel|\n",
      "|Cancellation Conf...|\n",
      "|           Downgrade|\n",
      "|               Error|\n",
      "|                Help|\n",
      "|                Home|\n",
      "|              Logout|\n",
      "|            NextSong|\n",
      "|         Roll Advert|\n",
      "|       Save Settings|\n",
      "|            Settings|\n",
      "|    Submit Downgrade|\n",
      "|      Submit Upgrade|\n",
      "|         Thumbs Down|\n",
      "|           Thumbs Up|\n",
      "|             Upgrade|\n",
      "+--------------------+\n",
      "\n"
     ]
    }
   ],
   "source": [
    "# Check the different options for \"page\" column:\n",
    "df.select(\"page\").dropDuplicates().sort(\"page\").show()"
   ]
  },
  {
   "cell_type": "code",
   "execution_count": 14,
   "metadata": {},
   "outputs": [
    {
     "name": "stdout",
     "output_type": "stream",
     "text": [
      "+------+----+---------+------+-------------+--------+------+-----+--------+------+----+------------+---------+-----+------+---+---------+------+\n",
      "|artist|auth|firstName|gender|itemInSession|lastName|length|level|location|method|page|registration|sessionId| song|status| ts|userAgent|userId|\n",
      "+------+----+---------+------+-------------+--------+------+-----+--------+------+----+------------+---------+-----+------+---+---------+------+\n",
      "| 50046|   0|        0|     0|            0|       0| 50046|    0|       0|     0|   0|           0|        0|50046|     0|  0|        0|     0|\n",
      "+------+----+---------+------+-------------+--------+------+-----+--------+------+----+------------+---------+-----+------+---+---------+------+\n",
      "\n"
     ]
    }
   ],
   "source": [
    "# Count the number of null values in each column once again:\n",
    "df.select([count(when(isnan(c) | col(c).isNull(), c)).alias(c) for c in df.columns]).show()"
   ]
  },
  {
   "cell_type": "code",
   "execution_count": 15,
   "metadata": {},
   "outputs": [],
   "source": [
    "# Change the time format of ts and registration in the dataframe\n",
    "change_time_format = udf(lambda x: datetime.datetime.fromtimestamp(x / 1000.0).strftime(\"%Y-%m-%d %H:%M:%S\"))\n",
    "df = df.withColumn(\"tsDateColumn\", change_time_format(df.ts))\n",
    "df = df.withColumn(\"registrationDateColumn\", change_time_format(df.registration))"
   ]
  },
  {
   "cell_type": "markdown",
   "metadata": {},
   "source": [
    "# Exploratory Data Analysis\n",
    "When you're working with the full dataset, perform EDA by loading a small subset of the data and doing basic manipulations within Spark. In this workspace, you are already provided a small subset of data you can explore.\n",
    "\n",
    "### Define Churn\n",
    "\n",
    "Once you've done some preliminary analysis, create a column `Churn` to use as the label for your model. I suggest using the `Cancellation Confirmation` events to define your churn, which happen for both paid and free users. As a bonus task, you can also look into the `Downgrade` events.\n",
    "\n",
    "### Explore Data\n",
    "Once you've defined churn, perform some exploratory data analysis to observe the behavior for users who stayed vs users who churned. You can start by exploring aggregates on these two groups of users, observing how much of a specific action they experienced per a certain time unit or number of songs played."
   ]
  },
  {
   "cell_type": "code",
   "execution_count": 16,
   "metadata": {},
   "outputs": [
    {
     "name": "stdout",
     "output_type": "stream",
     "text": [
      "225\n",
      "52\n",
      "154\n"
     ]
    }
   ],
   "source": [
    "# Check the number of users in the dataset\n",
    "print(df.select(\"userId\").dropDuplicates().count())\n",
    "\n",
    "# Check the number of users who has \"Cancellation Confirmation\" in the dataset\n",
    "print(df.select(\"userId\").where(df.page == \"Cancellation Confirmation\").dropDuplicates().count())\n",
    "\n",
    "# Check the number of users who has \"Downgrade\" in the dataset\n",
    "print(df.select(\"userId\").where(df.page == \"Downgrade\").dropDuplicates().count())"
   ]
  },
  {
   "cell_type": "markdown",
   "metadata": {},
   "source": [
    "#### Definition of Churn\n",
    "\n",
    "When a client downgrades or cancels their subscription, this is referred to as churn. Churn essentially reduces a company's subscribed user base, which has a detrimental impact on profit.\n",
    "\n",
    "Companies try to detect the customers who have a potential to churn and give additional offers to these customers. This is why it is important to have a precise model for detecting churn.\n",
    "\n",
    "There are 225 users in total in the dataset, according to my examination of the provided dataset. There are 154 users with \"Downgrade\" and 52 people with \"Cancellation Confirmation.\" Since the bulk of customers would then be classified as Churn users, I do not prefer to add Downgrade to Churn. Because of this, I refer to people who have \"Cancellation Confirmation\" in the dataset as \"Churn.\""
   ]
  },
  {
   "cell_type": "code",
   "execution_count": 17,
   "metadata": {},
   "outputs": [
    {
     "data": {
      "image/png": "[encoded data removed]",
      "text/plain": [
       "<matplotlib.figure.Figure at 0x7fc603f7e400>"
      ]
     },
     "metadata": {
      "needs_background": "light"
     },
     "output_type": "display_data"
    }
   ],
   "source": [
    "# Check the number of each action in the dataset\n",
    "action_counts = df.groupby(\"page\").count().sort(desc(\"count\")).toPandas()\n",
    "action_counts.plot.bar(x='page', y='count', legend=None)\n",
    "plt.title('Number of Actions In The Dataset');\n",
    "plt.show()"
   ]
  },
  {
   "cell_type": "code",
   "execution_count": 18,
   "metadata": {},
   "outputs": [],
   "source": [
    "# Since I defined churn as users who has cancellation confirmation in the dataset I add a new column\n",
    "# named \"churnInfo\" as a flag for the the customers who churned.\n",
    "\n",
    "# Find the customers who has a \"Cancellation Confirmation\"\n",
    "churn_find = udf(lambda x: 1 if x == \"Cancellation Confirmation\" else 0, IntegerType())\n",
    "df = df.withColumn(\"churnInfo\", churn_find(\"page\"))\n",
    "\n",
    "# Flag all the rows for the customers who churned.\n",
    "churn_window = Window.partitionBy(\"userId\").orderBy(desc(\"ts\")).rangeBetween(Window.unboundedPreceding, 0)\n",
    "df = df.withColumn(\"churnInfo\", max(\"churnInfo\").over(churn_window))"
   ]
  },
  {
   "cell_type": "code",
   "execution_count": 19,
   "metadata": {
    "scrolled": true
   },
   "outputs": [
    {
     "name": "stdout",
     "output_type": "stream",
     "text": [
      "+------+\n",
      "|userId|\n",
      "+------+\n",
      "|   125|\n",
      "|    51|\n",
      "+------+\n",
      "only showing top 2 rows\n",
      "\n"
     ]
    }
   ],
   "source": [
    "# Check a few users who churned\n",
    "df.select(\"userId\").where(df.page == \"Cancellation Confirmation\").dropDuplicates().show(n=2)"
   ]
  },
  {
   "cell_type": "code",
   "execution_count": 20,
   "metadata": {},
   "outputs": [
    {
     "name": "stdout",
     "output_type": "stream",
     "text": [
      "2464\n",
      "2464\n"
     ]
    }
   ],
   "source": [
    "# Compare the number of rows and the number of churn flags for a specific user who churned\n",
    "print(df.select(\"*\").where(df.userId == \"51\").orderBy(desc(\"ts\")).count())\n",
    "print(df.select(\"*\").where((df.userId == \"51\") & (df.churnInfo == 1)).orderBy(desc(\"ts\")).count())"
   ]
  },
  {
   "cell_type": "markdown",
   "metadata": {},
   "source": [
    "#### Most Popular Artists and Songs"
   ]
  },
  {
   "cell_type": "code",
   "execution_count": 21,
   "metadata": {},
   "outputs": [
    {
     "name": "stdout",
     "output_type": "stream",
     "text": [
      "+--------------------+-------------+\n",
      "|              artist|count(artist)|\n",
      "+--------------------+-------------+\n",
      "|       Kings Of Leon|         1841|\n",
      "|            Coldplay|         1813|\n",
      "|Florence + The Ma...|         1236|\n",
      "|       Dwight Yoakam|         1135|\n",
      "|            BjÃÂ¶rk|         1133|\n",
      "+--------------------+-------------+\n",
      "only showing top 5 rows\n",
      "\n"
     ]
    }
   ],
   "source": [
    "# Most popular 5 'artist's are:\n",
    "df.groupby('artist').agg(count('artist')).orderBy(desc('count(artist)')).show(n=5)"
   ]
  },
  {
   "cell_type": "code",
   "execution_count": 22,
   "metadata": {},
   "outputs": [
    {
     "name": "stdout",
     "output_type": "stream",
     "text": [
      "+--------------------+-----------+\n",
      "|                song|count(song)|\n",
      "+--------------------+-----------+\n",
      "|      You're The One|       1153|\n",
      "|                Undo|       1026|\n",
      "|             Revelry|        854|\n",
      "|       Sehr kosmisch|        728|\n",
      "|Horn Concerto No....|        641|\n",
      "+--------------------+-----------+\n",
      "only showing top 5 rows\n",
      "\n"
     ]
    }
   ],
   "source": [
    "# Most popular 5 'song's are:\n",
    "df.groupby('song').agg(count('song')).orderBy(desc('count(song)')).show(n=5)"
   ]
  },
  {
   "cell_type": "markdown",
   "metadata": {},
   "source": [
    "#### Number of Songs Played Analysis"
   ]
  },
  {
   "cell_type": "code",
   "execution_count": 23,
   "metadata": {},
   "outputs": [
    {
     "name": "stdout",
     "output_type": "stream",
     "text": [
      "+---------+----------------+\n",
      "|churnInfo|count(churnInfo)|\n",
      "+---------+----------------+\n",
      "|        1|           36394|\n",
      "|        0|          191714|\n",
      "+---------+----------------+\n",
      "\n"
     ]
    }
   ],
   "source": [
    "# The number of songs played by two different groups: the ones who churned and the ones who did not churn\n",
    "df.select(\"*\").where(df.page == \"NextSong\").groupby(\"churnInfo\").agg(count(\"churnInfo\")).show()"
   ]
  },
  {
   "cell_type": "code",
   "execution_count": 24,
   "metadata": {},
   "outputs": [
    {
     "name": "stdout",
     "output_type": "stream",
     "text": [
      "+---------+-------------------------------------------+\n",
      "|churnInfo|(count(churnInfo) / count(DISTINCT userId))|\n",
      "+---------+-------------------------------------------+\n",
      "|        1|                          699.8846153846154|\n",
      "|        0|                         1108.1734104046243|\n",
      "+---------+-------------------------------------------+\n",
      "\n",
      "None\n"
     ]
    },
    {
     "data": {
      "image/png": "[encoded data removed]",
      "text/plain": [
       "<matplotlib.figure.Figure at 0x7fc5cc77b3c8>"
      ]
     },
     "metadata": {
      "needs_background": "light"
     },
     "output_type": "display_data"
    }
   ],
   "source": [
    "# But it is better to find the average number of songs played for each group:\n",
    "print(df.select(\"*\").where(df.page == \"NextSong\").groupby(\"churnInfo\").agg(count(\"churnInfo\")/countDistinct(\"userId\")).show())\n",
    "\n",
    "avg_songs_played = df.select(\"*\").where(df.page == \"NextSong\") \\\n",
    "                                .groupby(\"churnInfo\").agg(count(\"churnInfo\")/countDistinct(\"userId\")).toPandas()\n",
    "\n",
    "avg_songs_played.plot.bar(x='churnInfo', y='(count(churnInfo) / count(DISTINCT userId))', rot=0, legend= None)\n",
    "plt.title('Average Songs Played');\n",
    "plt.show()"
   ]
  },
  {
   "cell_type": "markdown",
   "metadata": {},
   "source": [
    "#### Gender Analysis"
   ]
  },
  {
   "cell_type": "code",
   "execution_count": 25,
   "metadata": {
    "scrolled": true
   },
   "outputs": [
    {
     "data": {
      "text/plain": [
       "<matplotlib.axes._subplots.AxesSubplot at 0x7fc5cc775a90>"
      ]
     },
     "execution_count": 25,
     "metadata": {},
     "output_type": "execute_result"
    },
    {
     "data": {
      "image/png": "[encoded data removed]",
      "text/plain": [
       "<matplotlib.figure.Figure at 0x7fc5ce8b0e48>"
      ]
     },
     "metadata": {},
     "output_type": "display_data"
    }
   ],
   "source": [
    "# Lets check the gender distribution in the dataset\n",
    "gender_distribution = df.dropDuplicates(['userId']).groupby('gender').agg(count('userId')).toPandas()\n",
    "gender_distribution.set_index('gender').plot.pie(y='count(userId)', figsize=(4, 4))"
   ]
  },
  {
   "cell_type": "code",
   "execution_count": 26,
   "metadata": {},
   "outputs": [
    {
     "data": {
      "text/plain": [
       "<matplotlib.axes._subplots.AxesSubplot at 0x7fc5cc6c0588>"
      ]
     },
     "execution_count": 26,
     "metadata": {},
     "output_type": "execute_result"
    },
    {
     "data": {
      "image/png": "[encoded data removed]",
      "text/plain": [
       "<matplotlib.figure.Figure at 0x7fc5cc6a0d30>"
      ]
     },
     "metadata": {
      "needs_background": "light"
     },
     "output_type": "display_data"
    }
   ],
   "source": [
    "# Lets compare the genders of customers who churned and did not churn\n",
    "churn_by_gender = df.dropDuplicates(['userId']).groupby(['churnInfo', \"gender\"]).agg(count('userId')).toPandas()\n",
    "sns.barplot(data = churn_by_gender, x='gender', y='count(userId)', hue='churnInfo')"
   ]
  },
  {
   "cell_type": "code",
   "execution_count": 27,
   "metadata": {},
   "outputs": [
    {
     "data": {
      "image/png": "[encoded data removed]",
      "text/plain": [
       "<matplotlib.figure.Figure at 0x7fc5cc629860>"
      ]
     },
     "metadata": {
      "needs_background": "light"
     },
     "output_type": "display_data"
    }
   ],
   "source": [
    "# The bar chart above shows that male have a more tendency to churn compared to female.\n",
    "# Lets see this in percentages:\n",
    "churn_percent_by_gender = df.dropDuplicates(['userId']).groupby([\"gender\"]).agg(sum('churnInfo')/count('userId')).toPandas()\n",
    "\n",
    "churn_percent_by_gender.plot.bar(x='gender', y='(sum(churnInfo) / count(userId))', rot=0, legend= None)\n",
    "plt.title('Churn Ratios Depending on Gender');\n",
    "plt.show()"
   ]
  },
  {
   "cell_type": "markdown",
   "metadata": {},
   "source": [
    "The above chart states that gender might have an effect on churn."
   ]
  },
  {
   "cell_type": "markdown",
   "metadata": {},
   "source": [
    "#### Level Analysis"
   ]
  },
  {
   "cell_type": "code",
   "execution_count": 28,
   "metadata": {},
   "outputs": [
    {
     "data": {
      "image/png": "[encoded data removed]",
      "text/plain": [
       "<matplotlib.figure.Figure at 0x7fc5cc6356a0>"
      ]
     },
     "metadata": {
      "needs_background": "light"
     },
     "output_type": "display_data"
    }
   ],
   "source": [
    "# Lets check if level difference (free or paid) has an effect on churn:\n",
    "churn_percent_by_level = df.dropDuplicates(['userId']).groupby([\"level\"]).agg(sum('churnInfo')/count('userId')).toPandas()\n",
    "\n",
    "churn_percent_by_level.plot.bar(x='level', y='(sum(churnInfo) / count(userId))', rot=0, legend= None)\n",
    "plt.title('Churn Ratios Depending on Level');\n",
    "plt.show()"
   ]
  },
  {
   "cell_type": "markdown",
   "metadata": {},
   "source": [
    "The above chart states that level might have an effect on churn. Paid users churn less compared to free customers."
   ]
  },
  {
   "cell_type": "markdown",
   "metadata": {},
   "source": [
    "#### \"length\" Column"
   ]
  },
  {
   "cell_type": "code",
   "execution_count": 29,
   "metadata": {
    "scrolled": true
   },
   "outputs": [
    {
     "name": "stdout",
     "output_type": "stream",
     "text": [
      "+---------+\n",
      "|   length|\n",
      "+---------+\n",
      "|277.89016|\n",
      "|236.09424|\n",
      "| 282.8273|\n",
      "|262.71302|\n",
      "|223.60771|\n",
      "|208.29995|\n",
      "|260.46649|\n",
      "|185.44281|\n",
      "|134.47791|\n",
      "| 229.8771|\n",
      "+---------+\n",
      "only showing top 10 rows\n",
      "\n"
     ]
    }
   ],
   "source": [
    "df.select('length').where(df.page == 'NextSong').show(n=10)"
   ]
  },
  {
   "cell_type": "code",
   "execution_count": 30,
   "metadata": {
    "scrolled": true
   },
   "outputs": [
    {
     "name": "stdout",
     "output_type": "stream",
     "text": [
      "+-------+-----------------+\n",
      "|summary|           length|\n",
      "+-------+-----------------+\n",
      "|  count|           228108|\n",
      "|   mean|249.1171819778458|\n",
      "| stddev|99.23517921058361|\n",
      "|    min|          0.78322|\n",
      "|    max|       3024.66567|\n",
      "+-------+-----------------+\n",
      "\n"
     ]
    }
   ],
   "source": [
    "# Check the statistics of \"length\" column\n",
    "df.describe('length').show()"
   ]
  },
  {
   "cell_type": "code",
   "execution_count": 31,
   "metadata": {
    "scrolled": true
   },
   "outputs": [
    {
     "name": "stdout",
     "output_type": "stream",
     "text": [
      "+----------+----------------------+-----------+\n",
      "|      song|count(DISTINCT length)|count(song)|\n",
      "+----------+----------------------+-----------+\n",
      "|     Intro|                    50|         92|\n",
      "|      Home|                    22|        224|\n",
      "|   Hold On|                    19|         50|\n",
      "| Beautiful|                    18|         61|\n",
      "|   Goodbye|                    17|         48|\n",
      "|   Someday|                    17|         86|\n",
      "|   Lullaby|                    16|         50|\n",
      "|      Stay|                    16|         72|\n",
      "|   Wake Up|                    16|         32|\n",
      "|   Tonight|                    16|         53|\n",
      "|     Smile|                    15|         84|\n",
      "|Everything|                    15|         62|\n",
      "|     Hello|                    15|         97|\n",
      "|       You|                    15|         32|\n",
      "|     Angel|                    14|         65|\n",
      "|   Believe|                    14|         35|\n",
      "|      Gone|                    14|         57|\n",
      "|    Heaven|                    14|         86|\n",
      "|       Why|                    14|         51|\n",
      "|   Breathe|                    14|        141|\n",
      "+----------+----------------------+-----------+\n",
      "only showing top 20 rows\n",
      "\n"
     ]
    }
   ],
   "source": [
    "# Check if \"length\" is the length of the song, or how long a song played before skipped to the next song.\n",
    "# Since the result of count of Distinct length is more than 1, the lenght shows how long the song was played for each\n",
    "# customer\n",
    "\n",
    "df.select(\"*\").where(df.page == 'NextSong').groupby('song').agg(countDistinct('length'), count('song')) \\\n",
    "                                                                .orderBy(desc('count(DISTINCT length)')).show()"
   ]
  },
  {
   "cell_type": "markdown",
   "metadata": {},
   "source": [
    "I'll use the number of songs played for each customer in the churn model. Each customer's total song length will be associated with the number of songs listened. I won't use length for the machine learning model because of this."
   ]
  },
  {
   "cell_type": "markdown",
   "metadata": {},
   "source": [
    "#### \"status\" Column"
   ]
  },
  {
   "cell_type": "code",
   "execution_count": 32,
   "metadata": {},
   "outputs": [
    {
     "name": "stdout",
     "output_type": "stream",
     "text": [
      "+------+\n",
      "|status|\n",
      "+------+\n",
      "|   200|\n",
      "|   307|\n",
      "|   404|\n",
      "+------+\n",
      "\n"
     ]
    }
   ],
   "source": [
    "# check the different options for \"status\" column:\n",
    "df.select(\"status\").dropDuplicates().sort(\"status\").show()"
   ]
  },
  {
   "cell_type": "markdown",
   "metadata": {},
   "source": [
    "#### Number of Songs in Each Hour Analysis"
   ]
  },
  {
   "cell_type": "code",
   "execution_count": 33,
   "metadata": {},
   "outputs": [],
   "source": [
    "# I would like to check the number of songs that were listened in each hour of the day on average\n",
    "\n",
    "# Define a UDF to find the hour of day in the dataframe and use the function to create a new column named \"hour_of_day\"\n",
    "get_hour = udf(lambda x: datetime.datetime.fromtimestamp(x/1000).hour)\n",
    "df = df.withColumn(\"hour_of_day\", get_hour(df.ts))"
   ]
  },
  {
   "cell_type": "code",
   "execution_count": 34,
   "metadata": {},
   "outputs": [],
   "source": [
    "# Count the number of songs in each hour of day and store it in a pandas dataframe\n",
    "songs_by_hour = df.select(['song', 'hour_of_day']).where(df.page == 'NextSong').groupby('hour_of_day').agg(count('song')) \\\n",
    "                                                                                    .orderBy('hour_of_day').toPandas()\n",
    "\n",
    "# Change the datatype of \"hour_of_day\" column to integer and sort the rows on this column\n",
    "songs_by_hour = songs_by_hour.astype({\"hour_of_day\": int})\n",
    "songs_by_hour = songs_by_hour.sort_values(by='hour_of_day').reset_index(drop=True)"
   ]
  },
  {
   "cell_type": "code",
   "execution_count": 35,
   "metadata": {},
   "outputs": [
    {
     "data": {
      "image/png": "[encoded data removed]",
      "text/plain": [
       "<matplotlib.figure.Figure at 0x7fc5cc771128>"
      ]
     },
     "metadata": {
      "needs_background": "light"
     },
     "output_type": "display_data"
    }
   ],
   "source": [
    "# Plot a chart to visualize the results\n",
    "songs_by_hour.plot.bar(x='hour_of_day', y='count(song)', rot=0, legend= None, stacked=True, width=0.6, figsize=(10, 5))\n",
    "plt.title('Number of Songs Played in Each Hour of the Day');\n",
    "plt.show()"
   ]
  },
  {
   "cell_type": "markdown",
   "metadata": {},
   "source": [
    "The above chart shows that maximum number of songs are played between 15 and 17 in the afternoon."
   ]
  },
  {
   "cell_type": "code",
   "execution_count": null,
   "metadata": {},
   "outputs": [],
   "source": []
  },
  {
   "cell_type": "markdown",
   "metadata": {},
   "source": [
    "# Feature Engineering\n",
    "Once you've familiarized yourself with the data, build out the features you find promising to train your model on. To work with the full dataset, you can follow the following steps.\n",
    "- Write a script to extract the necessary features from the smaller subset of data\n",
    "- Ensure that your script is scalable, using the best practices discussed in Lesson 3\n",
    "- Try your script on the full data set, debugging your script if necessary\n",
    "\n",
    "If you are working in the classroom workspace, you can just extract features based on the small subset of data contained here. Be sure to transfer over this work to the larger dataset when you work on your Spark cluster."
   ]
  },
  {
   "cell_type": "markdown",
   "metadata": {},
   "source": [
    "#### Features From \"page\""
   ]
  },
  {
   "cell_type": "code",
   "execution_count": 36,
   "metadata": {},
   "outputs": [],
   "source": [
    "# Here I define a function to extract features from the page column depending on different page categories\n",
    "def feature_from_page(df, page_category):\n",
    "    output = df.filter(df.page == page_category).groupby('userId') \\\n",
    "                .agg(count('page')).withColumnRenamed('count(page)', page_category)\n",
    "    return output\n",
    "\n",
    "# I make a list of the page categories I would like to add to my features dataframe\n",
    "features_from_page_list = ['Add Friend', 'Add to Playlist', 'Thumbs Down',\n",
    "                           'Thumbs Up', 'Error', 'Home', 'Roll Advert']"
   ]
  },
  {
   "cell_type": "code",
   "execution_count": 37,
   "metadata": {},
   "outputs": [],
   "source": [
    "# I create a features dataframe.\n",
    "features_df = df.select('userId').dropDuplicates()\n",
    "\n",
    "# I add different features from the page column into features dataframe, I make outer join, in case I have null values\n",
    "# I plan to fill them with zero values.\n",
    "for feat in features_from_page_list:\n",
    "    output = feature_from_page(df, feat)\n",
    "    features_df = features_df.join(output, 'userId', 'outer')"
   ]
  },
  {
   "cell_type": "markdown",
   "metadata": {},
   "source": [
    "#### Features From \"df columns\""
   ]
  },
  {
   "cell_type": "markdown",
   "metadata": {},
   "source": [
    "##### Add feature: gender"
   ]
  },
  {
   "cell_type": "code",
   "execution_count": 38,
   "metadata": {},
   "outputs": [],
   "source": [
    "# Define a user-defined function to create a new column to change categorical \"gender\" column to numeric.\n",
    "gender_adder = udf(lambda x: 1 if x == 'M' else 0, IntegerType())\n",
    "# Apply the udf to create a new numeric \"gender\" column\n",
    "df = df.withColumn('isMale', gender_adder(df.gender))\n",
    "\n",
    "# Take the userId info and gender for adding the gender info into features dataframe\n",
    "genders_of_users = df.dropDuplicates(['userId']).select(['userId', 'isMale']) \\\n",
    "                                                                .groupby('userId').agg(max('isMale')) \\\n",
    "                                                                .withColumnRenamed('max(isMale)', 'isMale')\n",
    "\n",
    "# add the gender column into features dataframe\n",
    "features_df = features_df.join(genders_of_users, 'userId', 'outer')"
   ]
  },
  {
   "cell_type": "markdown",
   "metadata": {},
   "source": [
    "##### Add feature: level"
   ]
  },
  {
   "cell_type": "code",
   "execution_count": 39,
   "metadata": {},
   "outputs": [],
   "source": [
    "# Define a user-defined function to create a new column to change categorical \"level\" column to numeric.\n",
    "level_adder = udf(lambda x: 1 if x == 'paid' else 0, IntegerType())\n",
    "# Apply the udf to create a new numeric \"level\" column\n",
    "df = df.withColumn('isPaid', level_adder(df.level))\n",
    "\n",
    "# Take the userId info and level for adding the level info into features dataframe\n",
    "levels_of_users = df.dropDuplicates(['userId']).select(['userId', 'isPaid']) \\\n",
    "                                                                .groupby('userId').agg(max('isPaid')) \\\n",
    "                                                                .withColumnRenamed('max(isPaid)', 'isPaid')\n",
    "\n",
    "# add the level column into features dataframe\n",
    "features_df = features_df.join(levels_of_users, 'userId', 'outer')"
   ]
  },
  {
   "cell_type": "markdown",
   "metadata": {},
   "source": [
    "##### Add feature: number of songs played"
   ]
  },
  {
   "cell_type": "code",
   "execution_count": 40,
   "metadata": {},
   "outputs": [],
   "source": [
    "# Take the userId and number of songs they played\n",
    "number_of_songs = df.select(['userId', 'page']).where(df.page == 'NextSong') \\\n",
    "                                .groupby('userId') \\\n",
    "                                .agg({'page':'count'}) \\\n",
    "                                .withColumnRenamed('count(page)', 'numberOfSongsPlayed')\n",
    "\n",
    "# Add the number of songs column into features dataframe\n",
    "features_df = features_df.join(number_of_songs, 'userId', 'outer')"
   ]
  },
  {
   "cell_type": "markdown",
   "metadata": {},
   "source": [
    "##### Add feature: membership duration"
   ]
  },
  {
   "cell_type": "code",
   "execution_count": 41,
   "metadata": {},
   "outputs": [],
   "source": [
    "# I would like to add the membership duration for each of the users in the dataset\n",
    "membership_duration_days = df.select(['userId', 'ts', 'registration']) \\\n",
    "                             .withColumn('membership_duration', (df.ts - df.registration)/(1000*60*60*24)) \\\n",
    "                                .groupby('userId') \\\n",
    "                                .agg({'membership_duration': 'max'}) \\\n",
    "                                .withColumnRenamed('max(membership_duration)', 'membership_duration')\n",
    "\n",
    "# Add the duration of membership column into features dataframe\n",
    "features_df = features_df.join(membership_duration_days, 'userId', 'outer')"
   ]
  },
  {
   "cell_type": "markdown",
   "metadata": {},
   "source": [
    "##### Add churnInfo as label "
   ]
  },
  {
   "cell_type": "code",
   "execution_count": 42,
   "metadata": {},
   "outputs": [],
   "source": [
    "# Take the userId and churnInfo for adding into features dataframe as a label\n",
    "churn_label = df.dropDuplicates(['userId']).select(['userId', 'churnInfo']) \\\n",
    "                                                                .groupby('userId').agg(max('churnInfo')) \\\n",
    "                                                                .withColumnRenamed('max(churnInfo)', 'churnInfo')\n",
    "\n",
    "# Add the number of songs column into features dataframe\n",
    "features_and_label_df = features_df.join(churn_label, 'userId', 'outer')"
   ]
  },
  {
   "cell_type": "code",
   "execution_count": 43,
   "metadata": {},
   "outputs": [],
   "source": [
    "# Fill the null values in the features dataframe with zero values\n",
    "features_and_label_df = features_and_label_df.fillna(0)"
   ]
  },
  {
   "cell_type": "code",
   "execution_count": 44,
   "metadata": {},
   "outputs": [
    {
     "name": "stdout",
     "output_type": "stream",
     "text": [
      "+------+----------+---------------+-----------+---------+-----+----+-----------+------+------+-------------------+-------------------+---------+\n",
      "|userId|Add Friend|Add to Playlist|Thumbs Down|Thumbs Up|Error|Home|Roll Advert|isMale|isPaid|numberOfSongsPlayed|membership_duration|churnInfo|\n",
      "+------+----------+---------------+-----------+---------+-----+----+-----------+------+------+-------------------+-------------------+---------+\n",
      "|100010|         4|              7|          5|       17|    0|  11|         52|     0|     0|                275|  55.64365740740741|        0|\n",
      "|200002|         4|              8|          6|       21|    0|  20|          7|     1|     0|                387|  70.07462962962963|        0|\n",
      "|   125|         0|              0|          0|        0|    0|   0|          1|     1|     0|                  8|  71.31688657407408|        1|\n",
      "|   124|        74|            118|         41|      171|    6| 176|          4|     0|     1|               4079| 131.55591435185184|        0|\n",
      "|    51|        28|             52|         21|      100|    1|  75|          0|     1|     1|               2111| 19.455844907407407|        1|\n",
      "|     7|         1|              5|          1|        7|    1|  10|         16|     1|     0|                150|  72.77818287037037|        0|\n",
      "|    15|        31|             59|         14|       81|    2|  93|          1|     1|     1|               1914| 56.513576388888886|        0|\n",
      "|    54|        33|             72|         29|      163|    1| 129|         47|     0|     1|               2841| 110.75168981481481|        1|\n",
      "|   155|        11|             24|          3|       58|    3|  30|          8|     0|     0|                820| 23.556018518518517|        0|\n",
      "|100014|         6|              7|          3|       17|    0|   7|          2|     1|     1|                257|  85.08340277777778|        1|\n",
      "+------+----------+---------------+-----------+---------+-----+----+-----------+------+------+-------------------+-------------------+---------+\n",
      "only showing top 10 rows\n",
      "\n"
     ]
    }
   ],
   "source": [
    "features_and_label_df.show(n=10)"
   ]
  },
  {
   "cell_type": "code",
   "execution_count": 45,
   "metadata": {},
   "outputs": [],
   "source": [
    "# I make a list of features names I would like to vectorize in the dataset\n",
    "features = ['Add Friend', 'Add to Playlist', 'Thumbs Up', 'Thumbs Down', 'Error', 'Home',\n",
    "            'Roll Advert', 'isMale', 'isPaid', 'numberOfSongsPlayed', 'membership_duration']\n",
    "\n",
    "# I create the vector assembler and use it to vectorize the feature\n",
    "assembler = VectorAssembler(inputCols = features, outputCol = 'vectorized_Features')\n",
    "features_and_label_df = assembler.transform(features_and_label_df)"
   ]
  },
  {
   "cell_type": "code",
   "execution_count": 46,
   "metadata": {},
   "outputs": [],
   "source": [
    "# I scale the features in the dataset \n",
    "scaler = StandardScaler(inputCol = 'vectorized_Features', outputCol = 'scaled_vectorized_feaures')\n",
    "scalerModel = scaler.fit(features_and_label_df)\n",
    "features_and_label_df = scalerModel.transform(features_and_label_df)"
   ]
  },
  {
   "cell_type": "code",
   "execution_count": 47,
   "metadata": {},
   "outputs": [],
   "source": [
    "# I create the data that I will be using to train and test my model. The model_date consists of two parts:\n",
    "    # 1. vectorized and scaled features\n",
    "    # 2. labels\n",
    "model_data = features_and_label_df.select(features_and_label_df['scaled_vectorized_feaures'].alias(\"features\"),\n",
    "                                         features_and_label_df['churnInfo'].alias(\"label\"))"
   ]
  },
  {
   "cell_type": "code",
   "execution_count": 48,
   "metadata": {},
   "outputs": [
    {
     "name": "stdout",
     "output_type": "stream",
     "text": [
      "+--------------------+-----+\n",
      "|            features|label|\n",
      "+--------------------+-----+\n",
      "|[0.19434724774254...|    0|\n",
      "|[0.19434724774254...|    0|\n",
      "|(11,[6,7,9,10],[0...|    1|\n",
      "|[3.59542408323712...|    0|\n",
      "|[1.36043073419783...|    1|\n",
      "+--------------------+-----+\n",
      "only showing top 5 rows\n",
      "\n"
     ]
    }
   ],
   "source": [
    "model_data.show(n=5)"
   ]
  },
  {
   "cell_type": "markdown",
   "metadata": {},
   "source": [
    "# Modeling\n",
    "Split the full dataset into train, test, and validation sets. Test out several of the machine learning methods you learned. Evaluate the accuracy of the various models, tuning parameters as necessary. Determine your winning model based on test accuracy and report results on the validation set. Since the churned users are a fairly small subset, I suggest using F1 score as the metric to optimize."
   ]
  },
  {
   "cell_type": "code",
   "execution_count": 49,
   "metadata": {},
   "outputs": [],
   "source": [
    "# Break the dataset into training and testing sets\n",
    "train, test = model_data.randomSplit([0.8, 0.2], seed=42)"
   ]
  },
  {
   "cell_type": "markdown",
   "metadata": {},
   "source": [
    "We can use f1 score as an indication to assess the accuracy of various algorithms because we have a classification problem and a short dataset."
   ]
  },
  {
   "cell_type": "code",
   "execution_count": 50,
   "metadata": {},
   "outputs": [],
   "source": [
    "# Create a single evaluator for comparing accuracy of different algoritms I train in the following cells\n",
    "evaluator = MulticlassClassificationEvaluator(metricName = 'f1')"
   ]
  },
  {
   "cell_type": "markdown",
   "metadata": {},
   "source": [
    "##### Random Forest Classifier"
   ]
  },
  {
   "cell_type": "code",
   "execution_count": 51,
   "metadata": {},
   "outputs": [
    {
     "name": "stdout",
     "output_type": "stream",
     "text": [
      "Random Forest F1-Score: 87.4\n"
     ]
    }
   ],
   "source": [
    "# Define the model\n",
    "rf = RandomForestClassifier()\n",
    "\n",
    "# Define the parameter alternatives to be tested\n",
    "paramGrid_rf = ParamGridBuilder() \\\n",
    "            .addGrid(rf.numTrees, [20, 30]) \\\n",
    "            .addGrid(rf.maxDepth, [5, 10]) \\\n",
    "            .build()\n",
    "\n",
    "\n",
    "# Define cross-validation\n",
    "crossval_rf = CrossValidator(estimator = rf,\n",
    "                          estimatorParamMaps = paramGrid_rf,\n",
    "                          evaluator = evaluator,\n",
    "                          numFolds =3)\n",
    "\n",
    "# Train the model with train dataset\n",
    "rf_model = crossval_rf.fit(train)\n",
    "\n",
    "# Make predictions with the model, by using test dataset\n",
    "rf_preds = rf_model.transform(test)\n",
    "\n",
    "# Calculate the f1-score accuracy to compare the performance of the model with other models. \n",
    "rf_f1_score = evaluator.evaluate(rf_preds)\n",
    "print('Random Forest F1-Score: {}'.format(round(rf_f1_score*100,2)))"
   ]
  },
  {
   "cell_type": "markdown",
   "metadata": {},
   "source": [
    "##### Logistic Regression Classifier"
   ]
  },
  {
   "cell_type": "code",
   "execution_count": 52,
   "metadata": {},
   "outputs": [
    {
     "name": "stdout",
     "output_type": "stream",
     "text": [
      "Logistic Regression F1-Score: 75.97\n"
     ]
    }
   ],
   "source": [
    "# Define the model\n",
    "lr = LogisticRegression(elasticNetParam=0)\n",
    "\n",
    "# Define the parameter alternatives to be tested\n",
    "paramGrid_lr = ParamGridBuilder() \\\n",
    "            .addGrid(lr.regParam, [0.0, 0.1]) \\\n",
    "            .addGrid(lr.maxIter, [10, 50]) \\\n",
    "            .build()\n",
    "\n",
    "\n",
    "# Define cross-validation\n",
    "crossval_lr = CrossValidator(estimator = lr,\n",
    "                          estimatorParamMaps = paramGrid_lr,\n",
    "                          evaluator = evaluator,\n",
    "                          numFolds =3)\n",
    "\n",
    "# Train the model with train dataset\n",
    "lr_model = crossval_lr.fit(train)\n",
    "\n",
    "# Make predictions with the model, by using test dataset\n",
    "lr_preds = lr_model.transform(test)\n",
    "\n",
    "# Calculate the f1-score accuracy to compare the performance of the model with other models.\n",
    "lr_f1_score = evaluator.evaluate(lr_preds)\n",
    "print('Logistic Regression F1-Score: {}'.format(round(lr_f1_score*100,2)))"
   ]
  },
  {
   "cell_type": "markdown",
   "metadata": {},
   "source": [
    "##### Gradient-Boosted Tree Classifier"
   ]
  },
  {
   "cell_type": "code",
   "execution_count": null,
   "metadata": {},
   "outputs": [],
   "source": [
    "# Define the model\n",
    "gbt = GBTClassifier()\n",
    "\n",
    "# Define the parameter alternatives to be tested\n",
    "paramGrid_gbt = ParamGridBuilder() \\\n",
    "            .addGrid(gbt.maxDepth, [5, 10]) \\\n",
    "            .addGrid(gbt.maxIter, [10, 20]) \\\n",
    "            .build()\n",
    "        \n",
    "\n",
    "# Define cross-validation\n",
    "crossval_gbt = CrossValidator(estimator = gbt,\n",
    "                        estimatorParamMaps = paramGrid_gbt,\n",
    "                        evaluator = evaluator,\n",
    "                        numFolds =3)\n",
    "\n",
    "# Train the model with train dataset\n",
    "gbt_model = crossval_gbt.fit(train)\n",
    "\n",
    "# Make predictions with the model, by using test dataset\n",
    "gbt_preds = gbt_model.transform(test)\n",
    "\n",
    "# Calculate the f1-score accuracy to compare the performance of the model with other models.\n",
    "gbt_f1_score = evaluator.evaluate(gbt_preds)\n",
    "print('Gradient-Boosted Tree F1-Score: {}'.format(round(gbt_f1_score*100,2)))"
   ]
  },
  {
   "cell_type": "markdown",
   "metadata": {},
   "source": [
    "#### Linear SVC Classifier"
   ]
  },
  {
   "cell_type": "code",
   "execution_count": null,
   "metadata": {},
   "outputs": [],
   "source": [
    "# Define the model\n",
    "lsvc = LinearSVC()\n",
    "\n",
    "# Define the parameter alternatives to be tested\n",
    "paramGrid_lsvc = ParamGridBuilder() \\\n",
    "            .addGrid(lsvc.regParam, [0.01]) \\\n",
    "            .addGrid(lsvc.maxIter, [5]) \\\n",
    "            .build()\n",
    "        \n",
    "\n",
    "# Define cross-validation\n",
    "crossval_lsvc = CrossValidator(estimator = lsvc,\n",
    "                          estimatorParamMaps = paramGrid_lsvc,\n",
    "                          evaluator = evaluator,\n",
    "                          numFolds =3)\n",
    "\n",
    "\n",
    "# Train the model with train dataset\n",
    "lsvc_model = crossval_lsvc.fit(train)\n",
    "\n",
    "# Make predictions with the model, by using test dataset\n",
    "lsvc_preds = lsvc_model.transform(test)\n",
    "\n",
    "# Calculate the f1-score accuracy to compare the performance of the model with other models.\n",
    "lsvc_f1_score = evaluator.evaluate(lsvc_preds)\n",
    "print('Linear SVC F1-Score: {}'.format(round(lsvc_f1_score*100,2)))"
   ]
  },
  {
   "cell_type": "markdown",
   "metadata": {},
   "source": [
    "As can be seen above, I used four different classification algorithms for churn model:\n",
    "- Random Forest Classification\n",
    "- Logistic Classification\n",
    "- Gradient-Boosted Tree Classification\n",
    "- Linear SVC Classification\n",
    "\n",
    "The worst model (Linear SVC Classification) had an f1-score around 55 percent. But other three models give us that have better performances and the highest performance is from Random Forest Classification with 87 percent. Logistic Classification and Gradient-Boosted Classification is around 76 percent"
   ]
  },
  {
   "cell_type": "markdown",
   "metadata": {},
   "source": [
    "We can think about including more features to raise the f1 score and create a better model. The typical amount of songs a user listens to each day, for instance, can be a useful feature. This is due to the possibility that the average daily song count could be a sign of how frequently a client uses the service.\n",
    "\n",
    "Another clue could be the quantity of skipped songs—those that the user did not listen to all the way through. Churning can occur, for instance, if a user ignores a lot of the service's suggested songs because they are unsatisfied with them."
   ]
  },
  {
   "cell_type": "markdown",
   "metadata": {},
   "source": [
    "Finding innovative ways to identify the features that will allow us to train a better model is the most difficult aspect of the project. I identified 11 features, but as we consider our options, there are likely many more that would improve the model's accuracy.\n",
    "\n",
    "Finding the settings that would improve accuracy through parameter adjustment was another challenge. It became harder to wait for the training process as the model training duration increased as I raised the amount of parameter tuning alternative options."
   ]
  },
  {
   "cell_type": "markdown",
   "metadata": {},
   "source": [
    "# Final Steps\n",
    "Clean up your code, adding comments and renaming variables to make the code easier to read and maintain. Refer to the Spark Project Overview page and Data Scientist Capstone Project Rubric to make sure you are including all components of the capstone project and meet all expectations. Remember, this includes thorough documentation in a README file in a Github repository, as well as a web app or blog post."
   ]
  },
  {
   "cell_type": "markdown",
   "metadata": {},
   "source": [
    "githup : https://github.com/velespit/Project_4_Data-Scientist-Capstone <br>\n",
    "medium : https://medium.com/@volkanaydogmusvg/sparkify-project-75d51a69df1f <br>"
   ]
  }
 ],
 "metadata": {
  "kernelspec": {
   "display_name": "Python 3",
   "language": "python",
   "name": "python3"
  },
  "language_info": {
   "codemirror_mode": {
    "name": "ipython",
    "version": 3
   },
   "file_extension": ".py",
   "mimetype": "text/x-python",
   "name": "python",
   "nbconvert_exporter": "python",
   "pygments_lexer": "ipython3",
   "version": "3.6.3"
  }
 },
 "nbformat": 4,
 "nbformat_minor": 2
}
